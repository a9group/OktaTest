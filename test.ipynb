{
 "cells": [
  {
   "cell_type": "code",
   "execution_count": 4,
   "metadata": {},
   "outputs": [
    {
     "data": {
      "application/vnd.jupyter.widget-view+json": {
       "model_id": "a10ebd76b670499cae6c0abc224067ee",
       "version_major": 2,
       "version_minor": 0
      },
      "text/plain": [
       "Text(value='https://a9data.atlassian.net', description='Jira URL:')"
      ]
     },
     "metadata": {},
     "output_type": "display_data"
    },
    {
     "data": {
      "application/vnd.jupyter.widget-view+json": {
       "model_id": "357e89dd35da4b82a011a58b484c3c5d",
       "version_major": 2,
       "version_minor": 0
      },
      "text/plain": [
       "Text(value='trial-1912226.okta.com', description='Okta Domain:')"
      ]
     },
     "metadata": {},
     "output_type": "display_data"
    },
    {
     "data": {
      "application/vnd.jupyter.widget-view+json": {
       "model_id": "0be7509f62de42bdae4ee15a729e3ce3",
       "version_major": 2,
       "version_minor": 0
      },
      "text/plain": [
       "Password(description='Okta API Token:')"
      ]
     },
     "metadata": {},
     "output_type": "display_data"
    },
    {
     "data": {
      "application/vnd.jupyter.widget-view+json": {
       "model_id": "b5445bc21eb04c5f92beae7f6cda90cc",
       "version_major": 2,
       "version_minor": 0
      },
      "text/plain": [
       "Dropdown(description='Test Case:', options=('Non-admin user', 'Admin user', 'No AD', 'Local Account', 'Okta Lo…"
      ]
     },
     "metadata": {},
     "output_type": "display_data"
    },
    {
     "data": {
      "application/vnd.jupyter.widget-view+json": {
       "model_id": "96ac3af41f2441199fbedeca750a5510",
       "version_major": 2,
       "version_minor": 0
      },
      "text/plain": [
       "Button(description='Run Selected Test', style=ButtonStyle())"
      ]
     },
     "metadata": {},
     "output_type": "display_data"
    },
    {
     "name": "stderr",
     "output_type": "stream",
     "text": [
      "/var/folders/0n/kvzzcvpx3fb9pgtj5n8tdvf00000gn/T/ipykernel_18044/1307762762.py:96: DeprecationWarning: datetime.datetime.utcnow() is deprecated and scheduled for removal in a future version. Use timezone-aware objects to represent datetimes in UTC: datetime.datetime.now(datetime.UTC).\n",
      "  \"Timestamp\": datetime.utcnow().isoformat()\n",
      "/var/folders/0n/kvzzcvpx3fb9pgtj5n8tdvf00000gn/T/ipykernel_18044/1307762762.py:100: DeprecationWarning: datetime.datetime.utcnow() is deprecated and scheduled for removal in a future version. Use timezone-aware objects to represent datetimes in UTC: datetime.datetime.now(datetime.UTC).\n",
      "  df.to_csv(f\"auth_audit_{datetime.utcnow().strftime('%Y%m%dT%H%M%SZ')}.csv\", index=False, mode='a', header=False)\n"
     ]
    },
    {
     "data": {
      "text/html": [
       "<div>\n",
       "<style scoped>\n",
       "    .dataframe tbody tr th:only-of-type {\n",
       "        vertical-align: middle;\n",
       "    }\n",
       "\n",
       "    .dataframe tbody tr th {\n",
       "        vertical-align: top;\n",
       "    }\n",
       "\n",
       "    .dataframe thead th {\n",
       "        text-align: right;\n",
       "    }\n",
       "</style>\n",
       "<table border=\"1\" class=\"dataframe\">\n",
       "  <thead>\n",
       "    <tr style=\"text-align: right;\">\n",
       "      <th></th>\n",
       "      <th>Test Case</th>\n",
       "      <th>AD Group</th>\n",
       "      <th>Jira Access</th>\n",
       "      <th>Okta Access</th>\n",
       "      <th>Expected Outcome</th>\n",
       "      <th>Timestamp</th>\n",
       "    </tr>\n",
       "  </thead>\n",
       "  <tbody>\n",
       "    <tr>\n",
       "      <th>0</th>\n",
       "      <td>Non-admin user</td>\n",
       "      <td>Yes</td>\n",
       "      <td>FAIL</td>\n",
       "      <td>FAIL</td>\n",
       "      <td>Access as non-admin user</td>\n",
       "      <td>2025-02-10T20:06:12.672826</td>\n",
       "    </tr>\n",
       "  </tbody>\n",
       "</table>\n",
       "</div>"
      ],
      "text/plain": [
       "        Test Case AD Group Jira Access Okta Access          Expected Outcome  \\\n",
       "0  Non-admin user      Yes        FAIL        FAIL  Access as non-admin user   \n",
       "\n",
       "                    Timestamp  \n",
       "0  2025-02-10T20:06:12.672826  "
      ]
     },
     "metadata": {},
     "output_type": "display_data"
    },
    {
     "data": {
      "text/html": [
       "<div>\n",
       "<style scoped>\n",
       "    .dataframe tbody tr th:only-of-type {\n",
       "        vertical-align: middle;\n",
       "    }\n",
       "\n",
       "    .dataframe tbody tr th {\n",
       "        vertical-align: top;\n",
       "    }\n",
       "\n",
       "    .dataframe thead th {\n",
       "        text-align: right;\n",
       "    }\n",
       "</style>\n",
       "<table border=\"1\" class=\"dataframe\">\n",
       "  <thead>\n",
       "    <tr style=\"text-align: right;\">\n",
       "      <th></th>\n",
       "    </tr>\n",
       "  </thead>\n",
       "  <tbody>\n",
       "  </tbody>\n",
       "</table>\n",
       "</div>"
      ],
      "text/plain": [
       "Empty DataFrame\n",
       "Columns: []\n",
       "Index: []"
      ]
     },
     "metadata": {},
     "output_type": "display_data"
    }
   ],
   "source": [
    "import requests\n",
    "import json\n",
    "import base64\n",
    "import configparser\n",
    "import pandas as pd\n",
    "import csv\n",
    "from datetime import datetime\n",
    "import ipywidgets as widgets\n",
    "from IPython.display import display\n",
    "\n",
    "# Load configuration\n",
    "config = configparser.ConfigParser()\n",
    "config.read(\"config/config.properties\")\n",
    "\n",
    "# Define widgets for user input\n",
    "jira_url_widget = widgets.Text(value=config['jira']['url'], description='Jira URL:', disabled=False)\n",
    "okta_domain_widget = widgets.Text(value=config['okta']['domain'], description='Okta Domain:', disabled=False)\n",
    "okta_api_token_widget = widgets.Password(description='Okta API Token:', disabled=False)\n",
    "\n",
    "\n",
    "# Define test cases\n",
    "TEST_CASES = [\n",
    "    {\"test_name\": \"Non-admin user\", \"ad_group\": True, \"jira_access\": True, \"okta_access\": True, \"expected\": \"Access as non-admin user\"},\n",
    "    {\"test_name\": \"Admin user\", \"ad_group\": True, \"jira_access\": True, \"okta_access\": True, \"expected\": \"Access as admin user\"},\n",
    "    {\"test_name\": \"No AD\", \"ad_group\": False, \"jira_access\": True, \"okta_access\": True, \"expected\": \"Access to privileged site denied\"},\n",
    "    {\"test_name\": \"Local Account\", \"ad_group\": False, \"jira_access\": None, \"okta_access\": False, \"expected\": \"Account Creation fails\"},\n",
    "    {\"test_name\": \"Okta Local Account\", \"ad_group\": False, \"jira_access\": None, \"okta_access\": True, \"expected\": \"Group Assignment should fail for Product, Site Access\"},\n",
    "]\n",
    "\n",
    "# Dropdown to select individual test case\n",
    "test_case_names = [test[\"test_name\"] for test in TEST_CASES]\n",
    "test_case_dropdown = widgets.Dropdown(options=test_case_names, description=\"Test Case:\")\n",
    "execute_button = widgets.Button(description=\"Run Selected Test\")\n",
    "\n",
    "display(jira_url_widget, okta_domain_widget, okta_api_token_widget, test_case_dropdown, execute_button)\n",
    "\n",
    "# Function to authenticate via Jira\n",
    "def authenticate_jira(username, api_token):\n",
    "    auth_header = 'Basic ' + base64.b64encode(f\"{username}:{api_token}\".encode()).decode()\n",
    "    headers = {\n",
    "        \"Authorization\": auth_header,\n",
    "        \"Accept\": \"application/json\"\n",
    "    }\n",
    "    response = requests.get(f\"{jira_url_widget.value}/rest/api/3/myself\", headers=headers)\n",
    "    return response\n",
    "\n",
    "# Function to check if Okta user has Jira access\n",
    "def check_okta_jira_access(username):\n",
    "    url = f\"{jira_url_widget.value}/rest/api/3/user?username={username}\"\n",
    "    headers = {\n",
    "        \"Authorization\": f\"Bearer {okta_api_token_widget.value}\",\n",
    "        \"Accept\": \"application/json\"\n",
    "    }\n",
    "    response = requests.get(url, headers=headers)\n",
    "    return response\n",
    "\n",
    "# Function to get user directories\n",
    "def get_user_directories():\n",
    "    url = f\"{jira_url_widget.value}/rest/api/3/groups/picker\"\n",
    "    headers = {\n",
    "        \"Authorization\": f\"Bearer {okta_api_token_widget.value}\",\n",
    "        \"Accept\": \"application/json\"\n",
    "    }\n",
    "    response = requests.get(url, headers=headers)\n",
    "    if response.status_code == 200:\n",
    "        return response.json()\n",
    "    return {}\n",
    "\n",
    "# Function to run a selected test case\n",
    "def run_selected_test(button):\n",
    "    selected_test_name = test_case_dropdown.value\n",
    "    test = next((t for t in TEST_CASES if t[\"test_name\"] == selected_test_name), None)\n",
    "    if not test:\n",
    "        print(\"Test case not found.\")\n",
    "        return\n",
    "    \n",
    "    username = config['users'].get(test['test_name'], None)\n",
    "    jira_token = config['users'].get(f\"{test['test_name']}_token\", None)\n",
    "    \n",
    "    jira_status, okta_status = \"Not Tested\", \"Not Tested\"\n",
    "    \n",
    "    if test['jira_access']:\n",
    "        response = authenticate_jira(username, jira_token)\n",
    "        jira_status = \"PASS\" if response.status_code == 200 else \"FAIL\"\n",
    "    \n",
    "    if test['okta_access']:\n",
    "        response = check_okta_jira_access(username)\n",
    "        okta_status = \"PASS\" if response.status_code == 200 else \"FAIL\"\n",
    "    \n",
    "    result = {\n",
    "        \"Test Case\": test['test_name'],\n",
    "        \"AD Group\": \"Yes\" if test['ad_group'] else \"No\",\n",
    "        \"Jira Access\": jira_status,\n",
    "        \"Okta Access\": okta_status,\n",
    "        \"Expected Outcome\": test['expected'],\n",
    "        \"Timestamp\": datetime.utcnow().isoformat()\n",
    "    }\n",
    "    \n",
    "    df = pd.DataFrame([result])\n",
    "    df.to_csv(f\"auth_audit_{datetime.utcnow().strftime('%Y%m%dT%H%M%SZ')}.csv\", index=False, mode='a', header=False)\n",
    "    directory_data = get_user_directories()\n",
    "    directory_df = pd.DataFrame(directory_data.get('groups', []))\n",
    "    \n",
    "    display(df)\n",
    "    display(directory_df)\n",
    "\n",
    "# Bind the function to button click\n",
    "execute_button.on_click(run_selected_test)\n"
   ]
  },
  {
   "cell_type": "markdown",
   "metadata": {},
   "source": [
    "# Jira Cloud Authentication & Access Control Test Notebook\n",
    "\n",
    "## Purpose\n",
    "This Jupyter Notebook is designed to automate security and access control tests for Jira Cloud integrated with Okta authentication. It helps validate:\n",
    "\n",
    "1. Whether non-admin users can access Jira Cloud.\n",
    "2. If Active Directory (AD) group membership correctly enforces expected access levels.\n",
    "3. Whether Okta-based authentication correctly enforces user permissions.\n",
    "4. If unauthorized users can escalate privileges or gain access improperly.\n",
    "\n",
    "## Features\n",
    "- Uses **ipywidgets** for interactive execution.\n",
    "- Runs authentication checks via **Jira REST API**.\n",
    "- Validates whether Okta users have proper access to Jira Cloud.\n",
    "- Generates an audit report in **CSV format**.\n",
    "- Displays **user directory details** for further verification.\n",
    "- Each test case can be executed independently using dropdown selection.\n",
    "\n",
    "---"
   ]
  }
 ],
 "metadata": {
  "kernelspec": {
   "display_name": "Python (myenv)",
   "language": "python",
   "name": "myenv"
  },
  "language_info": {
   "codemirror_mode": {
    "name": "ipython",
    "version": 3
   },
   "file_extension": ".py",
   "mimetype": "text/x-python",
   "name": "python",
   "nbconvert_exporter": "python",
   "pygments_lexer": "ipython3",
   "version": "3.12.1"
  }
 },
 "nbformat": 4,
 "nbformat_minor": 2
}
